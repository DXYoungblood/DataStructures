{
  "cells": [
    {
      "cell_type": "markdown",
      "metadata": {
        "id": "view-in-github",
        "colab_type": "text"
      },
      "source": [
        "<a href=\"https://colab.research.google.com/github/DXYoungblood/DataStructures/blob/main/lab/lab04/lab04.ipynb\" target=\"_parent\"><img src=\"https://colab.research.google.com/assets/colab-badge.svg\" alt=\"Open In Colab\"/></a>"
      ]
    },
    {
      "cell_type": "code",
      "execution_count": null,
      "metadata": {
        "deletable": false,
        "editable": false,
        "id": "g1i9MsujjDiW"
      },
      "outputs": [],
      "source": [
        "# Initialize Otter\n",
        "import otter\n",
        "grader = otter.Notebook(\"lab04.ipynb\")"
      ]
    },
    {
      "cell_type": "markdown",
      "metadata": {
        "nbgrader": {
          "grade": false,
          "grade_id": "intro",
          "locked": true,
          "schema_version": 2,
          "solution": false
        },
        "id": "eIg6LnEyjDiY"
      },
      "source": [
        "# Lab 4: SQL\n",
        "\n",
        "In this lab, we are going to practice viewing, sorting, grouping, and merging tables with SQL. We will explore the money donated during the 2016 election using the [Federal Election Commission's public records](https://www.fec.gov/data/). You will be connecting to a `sqlite` database containing the data. The data we will be working with in this lab is quite small (16MB); however, it is a sample taken from a larger database that is more than a few GBs.\n",
        "\n",
        "\n",
        "### Due Date\n",
        "\n",
        "This assignment is due at **Tuesday, September 21** at 11:59 pm.\n",
        "\n",
        "### Collaboration Policy\n",
        "\n",
        "Data science is a collaborative activity. While you may talk with others about this assignment, we ask that you **write your solutions individually**. If you discuss the assignment with others, please **include their names** in the cell below."
      ]
    },
    {
      "cell_type": "markdown",
      "metadata": {
        "id": "5xA4l51BjDib"
      },
      "source": [
        "**Collaborators:** *list names here*"
      ]
    },
    {
      "cell_type": "code",
      "execution_count": null,
      "metadata": {
        "nbgrader": {
          "grade": false,
          "grade_id": "imports",
          "locked": true,
          "schema_version": 2,
          "solution": false
        },
        "id": "w9GT54j2jDic"
      },
      "outputs": [],
      "source": [
        "import pandas as pd\n",
        "import sqlalchemy\n",
        "from ds100_utils import fetch_and_cache\n",
        "from pathlib import Path"
      ]
    },
    {
      "cell_type": "markdown",
      "metadata": {
        "id": "TtC6eTCNjDid"
      },
      "source": [
        "### Connecting to SQLite"
      ]
    },
    {
      "cell_type": "markdown",
      "metadata": {
        "id": "j1kjnmhhjDid"
      },
      "source": [
        "Download the database to local disk drive; this will take about a minute."
      ]
    },
    {
      "cell_type": "code",
      "execution_count": null,
      "metadata": {
        "nbgrader": {
          "grade": false,
          "grade_id": "sql-setup1",
          "locked": true,
          "schema_version": 2,
          "solution": false
        },
        "id": "SP5YWHOrjDie"
      },
      "outputs": [],
      "source": [
        "db_url = 'https://s3.amazonaws.com/berkeley-ds100/fec_nyc.sqlite'\n",
        "db_filename = 'fec_nyc.db'\n",
        "data_dir = Path('data')\n",
        "fetch_and_cache(db_url, db_filename, data_dir = data_dir)\n",
        "db_path = data_dir / db_filename"
      ]
    },
    {
      "cell_type": "markdown",
      "metadata": {
        "id": "RUd6xvSNjDie"
      },
      "source": [
        "The following cell will connect to the above database using the SQL Alchemy library. This library is more general than the `sqlite3` module from the standard library because it can connect to several different database management systems, such as MySQL and PostgreSQL. It also supports an advanced feature for generating queries called an [object relational mapper](https://docs.sqlalchemy.org/en/latest/orm/tutorial.html) or ORM, which we won't discuss in this course but is quite useful for application development."
      ]
    },
    {
      "cell_type": "code",
      "execution_count": null,
      "metadata": {
        "id": "xXmFq5UYjDif"
      },
      "outputs": [],
      "source": [
        "engine = sqlalchemy.create_engine(f\"sqlite:///{db_path}\")\n",
        "connection = engine.connect()\n",
        "inspector = sqlalchemy.inspect(engine)"
      ]
    },
    {
      "cell_type": "markdown",
      "metadata": {
        "id": "niP_Tzk9jDig"
      },
      "source": [
        "To check that everything is working we will list the available tables."
      ]
    },
    {
      "cell_type": "code",
      "execution_count": null,
      "metadata": {
        "id": "NIanfft8jDih"
      },
      "outputs": [],
      "source": [
        "inspector.get_table_names()"
      ]
    },
    {
      "cell_type": "markdown",
      "metadata": {
        "id": "RCnK2g_sjDih"
      },
      "source": [
        "## Table Descriptions\n",
        "\n",
        "Here is a list of the tables in the database.  Each table links to the documentation on the [FEC page](https://www.fec.gov/data/browse-data/) for the dataset.\n",
        "\n",
        "If you'd like, you can consult the FEC page for the descriptions of the tables to find out what the correspondence is.\n",
        "\n",
        "- [`cand`](https://www.fec.gov/campaign-finance-data/candidate-summary-file-description/): Candidates table. Contains names and party affiliation.\n",
        "- [`comm`](https://www.fec.gov/campaign-finance-data/committee-summary-file-description/): Committees table. Contains committee names and types.\n",
        "- [`indiv_sample_nyc`](https://www.fec.gov/campaign-finance-data/contributions-individuals-file-description/): All individual contributions from New York City.\n",
        "\n",
        "We can see the schemas of these tables with the following code."
      ]
    },
    {
      "cell_type": "code",
      "execution_count": null,
      "metadata": {
        "id": "Fah3efS_jDii"
      },
      "outputs": [],
      "source": [
        "for exp in connection.execute('SELECT sql FROM sqlite_master;'):\n",
        "    print(exp[0])"
      ]
    },
    {
      "cell_type": "markdown",
      "metadata": {
        "id": "_O4uOS1bjDij"
      },
      "source": [
        "We can also look at the tables themselves.\n",
        "\n",
        "The individual donations made by NY residents are shown below.\n",
        "\n",
        "We use `LIMIT 5` to avoid loading a huge table. Although our tables shouldn't get too large to display, this is generally good practice when working in the notebook environment. Jupyter notebooks don't handle very large outputs well. Also note the `\"\"\"` to define our query. This allows us to have a query span multiple lines."
      ]
    },
    {
      "cell_type": "code",
      "execution_count": null,
      "metadata": {
        "id": "ZtjYfVy0jDij"
      },
      "outputs": [],
      "source": [
        "query = \"\"\"\n",
        "SELECT *\n",
        "FROM indiv_sample_nyc\n",
        "LIMIT 5\n",
        "\"\"\"\n",
        "pd.read_sql(query, engine)"
      ]
    },
    {
      "cell_type": "markdown",
      "metadata": {
        "id": "vC5ctBYzjDij"
      },
      "source": [
        "Similarly, the database of candidates is given below."
      ]
    },
    {
      "cell_type": "code",
      "execution_count": null,
      "metadata": {
        "id": "mOltq0rSjDik"
      },
      "outputs": [],
      "source": [
        "query = \"\"\"\n",
        "SELECT *\n",
        "FROM cand\n",
        "LIMIT 5\n",
        "\"\"\"\n",
        "pd.read_sql(query, engine)"
      ]
    },
    {
      "cell_type": "markdown",
      "metadata": {
        "id": "sr3yiYt-jDik"
      },
      "source": [
        "And finally, the table of committees is given below."
      ]
    },
    {
      "cell_type": "code",
      "execution_count": null,
      "metadata": {
        "id": "J1Fy12TijDik"
      },
      "outputs": [],
      "source": [
        "query = \"\"\"\n",
        "SELECT *\n",
        "FROM comm\n",
        "LIMIT 5\n",
        "\"\"\"\n",
        "pd.read_sql(query, engine)"
      ]
    },
    {
      "cell_type": "markdown",
      "metadata": {
        "id": "HlEKxDVrjDik"
      },
      "source": [
        "In CS61A or CS88, we saw basic queries similar to what we see below, which gives only the id and name of candidates from the Democratic party."
      ]
    },
    {
      "cell_type": "code",
      "execution_count": null,
      "metadata": {
        "id": "uYAFrRXAjDim"
      },
      "outputs": [],
      "source": [
        "query = \"\"\"\n",
        "SELECT cand_id, cand_name\n",
        "FROM cand\n",
        "WHERE cand_pty_affiliation = 'DEM'\n",
        "LIMIT 5\n",
        "\"\"\"\n",
        "pd.read_sql(query,engine)"
      ]
    },
    {
      "cell_type": "markdown",
      "metadata": {
        "nbgrader": {
          "grade": false,
          "grade_id": "q3",
          "locked": true,
          "schema_version": 2,
          "solution": false
        },
        "id": "N6MLmfQyjDim"
      },
      "source": [
        "---\n",
        "## Questions\n",
        "\n",
        "For this lab we will use SQL to extract data out of the `indiv_sample_nyc` table. The schema for this table is given below."
      ]
    },
    {
      "cell_type": "code",
      "execution_count": null,
      "metadata": {
        "id": "ruvfgb00jDim"
      },
      "outputs": [],
      "source": [
        "for exp in connection.execute('SELECT sql FROM sqlite_master WHERE name=\"indiv_sample_nyc\";'):\n",
        "    print(exp[0])"
      ]
    },
    {
      "cell_type": "markdown",
      "metadata": {
        "id": "AXVf4XvwjDim"
      },
      "source": [
        "Let's start by looking at 2016 election contributions made by Donald Trump, who was a NY resident during that year. The following SQL statement returns the `cmte_id`, `transaction_amt`, and `name` for every contribution made by any donor with \"DONALD\" and \"TRUMP\" in their name.\n",
        "\n",
        "Notice the `WHERE name LIKE '%TRUMP%' AND name LIKE '%DONALD%'` clause."
      ]
    },
    {
      "cell_type": "code",
      "execution_count": null,
      "metadata": {
        "id": "_a0kabNGjDim"
      },
      "outputs": [],
      "source": [
        "query1 = \"\"\"\n",
        "SELECT \n",
        "    cmte_id,\n",
        "    transaction_amt,\n",
        "    name\n",
        "FROM indiv_sample_nyc\n",
        "WHERE name LIKE '%TRUMP%' AND name LIKE '%DONALD%'\n",
        "\"\"\"\n",
        "\n",
        "res = pd.read_sql(query1, engine)\n",
        "res"
      ]
    },
    {
      "cell_type": "markdown",
      "metadata": {
        "id": "uNEcSTBUjDin"
      },
      "source": [
        "### Question 1"
      ]
    },
    {
      "cell_type": "markdown",
      "metadata": {
        "id": "zo0q4Th3jDin"
      },
      "source": [
        "If we look at the list above, it appears that some donations were not by Donald Trump himself, but instead by an entity called \"DONALD J TRUMP FOR PRESIDENT INC\". Fortunately, we see that our query only seems to have picked up one such anomalous name."
      ]
    },
    {
      "cell_type": "code",
      "execution_count": null,
      "metadata": {
        "scrolled": true,
        "id": "eNMy9rfMjDin"
      },
      "outputs": [],
      "source": [
        "res['name'].value_counts()"
      ]
    },
    {
      "cell_type": "markdown",
      "metadata": {
        "deletable": false,
        "editable": false,
        "id": "Hj8moPurjDin"
      },
      "source": [
        "Revise the above query so that the 15 donations made by \"DONALD J TRUMP FOR PRESIDENT INC\" do not appear. Your resulting table should have 142 rows. \n",
        "\n",
        "Hint: Copy the above query into the cell below as a starting point!\n",
        "\n",
        "Hint: Consider using `NOT LIKE`.\n",
        "\n",
        "<!--\n",
        "BEGIN QUESTION\n",
        "name: q1\n",
        "-->"
      ]
    },
    {
      "cell_type": "code",
      "execution_count": null,
      "metadata": {
        "id": "Kjq_JSSvjDio"
      },
      "outputs": [],
      "source": [
        "query_q1 = \"\"\"\n",
        "SELECT\n",
        "    ... \n",
        "    ... \n",
        "    ...\n",
        "FROM indiv_sample_nyc\n",
        "WHERE ...\n",
        "\"\"\"\n",
        "\n",
        "\n",
        "res_q1 = pd.read_sql(query_q1, engine)\n",
        "res_q1"
      ]
    },
    {
      "cell_type": "code",
      "execution_count": null,
      "metadata": {
        "deletable": false,
        "editable": false,
        "id": "q5F5w79yjDio"
      },
      "outputs": [],
      "source": [
        "grader.check(\"q1\")"
      ]
    },
    {
      "cell_type": "markdown",
      "metadata": {
        "deletable": false,
        "editable": false,
        "id": "tqppkidsjDio"
      },
      "source": [
        "### Question 2\n",
        "\n",
        "When you printed the schema for the tables, you may have noticed that both the `cand` and `comm` tables have a `cand_id` column. Let's try joining these two tables on this column.\n",
        "\n",
        "List the first 5 candidate names (`cand_name`) in reverse lexicographic order by `cand_name`, along with their corresponding committee names. Only select rows that have a matching `cand_id` in both tables.\n",
        "\n",
        "Your output should look similar to:\n",
        "\n",
        "<table border=\"1\" class=\"dataframe\">\n",
        "  <thead>\n",
        "    <tr style=\"text-align: right;\">\n",
        "      <th></th>\n",
        "      <th>cand_name</th>\n",
        "      <th>cmte_nm</th>\n",
        "    </tr>\n",
        "  </thead>\n",
        "  <tbody>\n",
        "    <tr>\n",
        "      <th>0</th>\n",
        "      <td>ZUTLER, DANIEL PAUL MR</td>\n",
        "      <td>CITIZENS TO ELECT DANIEL P ZUTLER FOR PRESIDENT</td>\n",
        "    </tr>\n",
        "    <tr>\n",
        "      <th>1</th>\n",
        "      <td>ZUMWALT, JAMES</td>\n",
        "      <td>ZUMWALT FOR CONGRESS</td>\n",
        "    </tr>\n",
        "    <tr>\n",
        "      <th>2</th>\n",
        "      <td>ZUKOWSKI, ANDREW GEORGE</td>\n",
        "      <td>ZUKOWSKI FOR CONGRESS</td>\n",
        "    </tr>\n",
        "    <tr>\n",
        "      <th>3</th>\n",
        "      <td>ZUCCOLO, JOE</td>\n",
        "      <td>JOE ZUCCOLO FOR CONGRESS</td>\n",
        "    </tr>\n",
        "    <tr>\n",
        "      <th>4</th>\n",
        "      <td>ZORN, ROBERT ERWIN</td>\n",
        "      <td>CONSTITUTIONAL COMMITTEE</td>\n",
        "    </tr>\n",
        "  </tbody>\n",
        "</table>\n",
        "\n",
        "<!--\n",
        "BEGIN QUESTION\n",
        "name: q2\n",
        "-->"
      ]
    },
    {
      "cell_type": "code",
      "execution_count": null,
      "metadata": {
        "id": "-VCOqUIzjDip"
      },
      "outputs": [],
      "source": [
        "query_q2 = \"\"\"\n",
        "SELECT ..., ...\n",
        "FROM cand c1 ... JOIN comm c2 ON ...\n",
        "...\n",
        "...\n",
        "\"\"\"\n",
        "\n",
        "\n",
        "res_q2 = pd.read_sql(query_q2, engine)\n",
        "res_q2"
      ]
    },
    {
      "cell_type": "code",
      "execution_count": null,
      "metadata": {
        "deletable": false,
        "editable": false,
        "id": "eW6vEMAkjDip"
      },
      "outputs": [],
      "source": [
        "grader.check(\"q2\")"
      ]
    },
    {
      "cell_type": "markdown",
      "metadata": {
        "deletable": false,
        "editable": false,
        "id": "uEsysg5KjDiq"
      },
      "source": [
        "### Question 3\n",
        "\n",
        "As in the previous part, list the first 5 candidate names (`cand_name`) by reverse lexicographic order and their corresponding committee names (`cmte_nm`). This time, include all candidate names. If there is no matching `cand_id` in the `comm` table, then `cmte_nm` should be NULL (or `None` in the Python representation).\n",
        "\n",
        "Your output should look similar to:\n",
        "\n",
        "<table border=\"1\" class=\"dataframe\">\n",
        "  <thead>\n",
        "    <tr style=\"text-align: right;\">\n",
        "      <th></th>\n",
        "      <th>cand_name</th>\n",
        "      <th>cmte_nm</th>\n",
        "    </tr>\n",
        "  </thead>\n",
        "  <tbody>\n",
        "    <tr>\n",
        "      <th>0</th>\n",
        "      <td>ZUTLER, DANIEL PAUL MR</td>\n",
        "      <td>CITIZENS TO ELECT DANIEL P ZUTLER FOR PRESIDENT</td>\n",
        "    </tr>\n",
        "    <tr>\n",
        "      <th>1</th>\n",
        "      <td>ZUMWALT, JAMES</td>\n",
        "      <td>ZUMWALT FOR CONGRESS</td>\n",
        "    </tr>\n",
        "    <tr>\n",
        "      <th>2</th>\n",
        "      <td>ZUKOWSKI, ANDREW GEORGE</td>\n",
        "      <td>ZUKOWSKI FOR CONGRESS</td>\n",
        "    </tr>\n",
        "    <tr>\n",
        "      <th>3</th>\n",
        "      <td>ZUCCOLO, JOE</td>\n",
        "      <td>JOE ZUCCOLO FOR CONGRESS</td>\n",
        "    </tr>\n",
        "    <tr>\n",
        "      <th>4</th>\n",
        "      <td>ZORNOW, TODD MR</td>\n",
        "      <td>None</td>\n",
        "    </tr>\n",
        "  </tbody>\n",
        "</table>\n",
        "\n",
        "<!--\n",
        "BEGIN QUESTION\n",
        "name: q3\n",
        "-->"
      ]
    },
    {
      "cell_type": "code",
      "execution_count": null,
      "metadata": {
        "id": "Db74nB_djDiq"
      },
      "outputs": [],
      "source": [
        "query_q3 = \"\"\"\n",
        "SELECT ..., ...\n",
        "FROM cand c1 ... JOIN comm c2 ON ...\n",
        "...\n",
        "...\n",
        "\"\"\"\n",
        "\n",
        "\n",
        "res_q3 = pd.read_sql(query_q3, engine)\n",
        "res_q3"
      ]
    },
    {
      "cell_type": "code",
      "execution_count": null,
      "metadata": {
        "deletable": false,
        "editable": false,
        "id": "AIn-4nt2jDiq"
      },
      "outputs": [],
      "source": [
        "grader.check(\"q3\")"
      ]
    },
    {
      "cell_type": "markdown",
      "metadata": {
        "id": "Vu_UB4-0jDiq"
      },
      "source": [
        "### Question 4"
      ]
    },
    {
      "cell_type": "markdown",
      "metadata": {
        "deletable": false,
        "editable": false,
        "id": "ozD_CoWjjDir"
      },
      "source": [
        "As a review of some of the key ideas from CS61A/CS88, let's refine our query above.\n",
        "\n",
        "We see that many of the contributions above were to the same committee. Create a new SQL query that returns the total amount that Donald Trump contributed to each committee. Your table should have four columns: `cmte_id`, `total_amount`, `num_donations`, and `cmte_nm`. The `total_amount` is the total amount contributed to that committee, `num_donations` is the total number of donations, and `cmte_nm` is the name of the committee. Note that `cmte_nm` is not available in `indiv_sample_nyc`, so you will have to somehow obtain information from the `comm` table.\n",
        "\n",
        "Your final table should be sorted in decreased order of `total_amount`.\n",
        "\n",
        "**Note**: This is a hard question! Don't be afraid to reference the walkthrough video if you're stuck.\n",
        "\n",
        "Hint: Use `GROUP BY` as covered in CS61A and CS88.\n",
        "\n",
        "Hint: Use `COUNT(*)` as covered in CS61A and CS88.\n",
        "\n",
        "Hint: Use `SUM()` as covered in CS61A and CS88.\n",
        "\n",
        "Hint: Use `ORDER BY` as covered in CS61A and CS88.\n",
        "\n",
        "Hint: Use `DESC` as covered in CS61A and CS88.\n",
        "\n",
        "Hint: Your `WHERE` clause should be the same as question 1a.\n",
        "\n",
        "Hint: You'll probably need either a join, or a subquery.\n",
        "\n",
        "<!--\n",
        "BEGIN QUESTION\n",
        "name: q4\n",
        "-->"
      ]
    },
    {
      "cell_type": "code",
      "execution_count": null,
      "metadata": {
        "id": "hG6LO30qjDir"
      },
      "outputs": [],
      "source": [
        "query_q4 = \"\"\"\n",
        "...\n",
        "\"\"\"\n",
        "\n",
        "\n",
        "res_q4 = pd.read_sql(query_q4, engine)\n",
        "res_q4"
      ]
    },
    {
      "cell_type": "code",
      "execution_count": null,
      "metadata": {
        "deletable": false,
        "editable": false,
        "id": "8s-GTMBXjDir"
      },
      "outputs": [],
      "source": [
        "grader.check(\"q4\")"
      ]
    },
    {
      "cell_type": "code",
      "execution_count": null,
      "metadata": {
        "id": "D0aJIZdQjDis"
      },
      "outputs": [],
      "source": [
        ""
      ]
    },
    {
      "cell_type": "markdown",
      "metadata": {
        "deletable": false,
        "editable": false,
        "id": "NbcUDQEnjDis"
      },
      "source": [
        "---\n",
        "\n",
        "To double-check your work, the cell below will rerun all of the autograder tests."
      ]
    },
    {
      "cell_type": "code",
      "execution_count": null,
      "metadata": {
        "deletable": false,
        "editable": false,
        "id": "emqtRbrvjDis"
      },
      "outputs": [],
      "source": [
        "grader.check_all()"
      ]
    },
    {
      "cell_type": "markdown",
      "metadata": {
        "deletable": false,
        "editable": false,
        "id": "AYUI2qsgjDis"
      },
      "source": [
        "## Submission\n",
        "\n",
        "Make sure you have run all cells in your notebook in order before running the cell below, so that all images/graphs appear in the output. The cell below will generate a zip file for you to submit. **Please save before exporting!**"
      ]
    },
    {
      "cell_type": "code",
      "execution_count": null,
      "metadata": {
        "deletable": false,
        "editable": false,
        "id": "Se8mGTcJjDiu"
      },
      "outputs": [],
      "source": [
        "# Save your notebook first, then run this cell to export your submission.\n",
        "grader.export(pdf=False)"
      ]
    },
    {
      "cell_type": "markdown",
      "metadata": {
        "id": "YQUH_OWijDiu"
      },
      "source": [
        " "
      ]
    }
  ],
  "metadata": {
    "celltoolbar": "Create Assignment",
    "kernelspec": {
      "display_name": "Python 3 (ipykernel)",
      "language": "python",
      "name": "python3"
    },
    "language_info": {
      "codemirror_mode": {
        "name": "ipython",
        "version": 3
      },
      "file_extension": ".py",
      "mimetype": "text/x-python",
      "name": "python",
      "nbconvert_exporter": "python",
      "pygments_lexer": "ipython3",
      "version": "3.9.7"
    },
    "colab": {
      "name": "lab04.ipynb",
      "provenance": [],
      "include_colab_link": true
    }
  },
  "nbformat": 4,
  "nbformat_minor": 0
}